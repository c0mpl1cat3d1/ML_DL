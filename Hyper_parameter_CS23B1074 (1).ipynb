{
  "cells": [
    {
      "cell_type": "markdown",
      "metadata": {
        "id": "LzmFatWdo0l0"
      },
      "source": [
        "Hyperparameter Testing of Decision Tree"
      ]
    },
    {
      "cell_type": "markdown",
      "metadata": {
        "id": "3DwGOid5o5gH"
      },
      "source": [
        "Import libraries"
      ]
    },
    {
      "cell_type": "code",
      "execution_count": 1,
      "metadata": {
        "id": "HH4JXF6eQRYb"
      },
      "outputs": [],
      "source": [
        "import pandas as pd\n",
        "import numpy as np\n",
        "from sklearn.datasets import load_iris\n",
        "from sklearn.model_selection import train_test_split\n",
        "from sklearn.tree import DecisionTreeClassifier\n",
        "from sklearn.metrics import accuracy_score"
      ]
    },
    {
      "cell_type": "markdown",
      "metadata": {
        "id": "YI0-yg0hprcM"
      },
      "source": [
        "Load dataset\n",
        "\n"
      ]
    },
    {
      "cell_type": "code",
      "execution_count": 2,
      "metadata": {
        "id": "b3lmc-lTpvD2"
      },
      "outputs": [],
      "source": [
        "iris = load_iris()\n",
        "X, y = iris.data, iris.target"
      ]
    },
    {
      "cell_type": "markdown",
      "metadata": {
        "id": "FWbfvqjJp0hF"
      },
      "source": [
        "Train-test split"
      ]
    },
    {
      "cell_type": "code",
      "execution_count": 3,
      "metadata": {
        "id": "G79GhM47p550"
      },
      "outputs": [],
      "source": [
        "X_train, X_test, y_train, y_test = train_test_split(X, y, test_size=0.3, random_state=42)"
      ]
    },
    {
      "cell_type": "markdown",
      "metadata": {
        "id": "xwIeNuXVqPwq"
      },
      "source": [
        "Define different hyperparameter settings"
      ]
    },
    {
      "cell_type": "code",
      "execution_count": 4,
      "metadata": {
        "id": "hcW68ynXqTbD"
      },
      "outputs": [],
      "source": [
        "params = [\n",
        "    {\"max_depth\": 2, \"min_samples_split\": 2, \"min_samples_leaf\": 1},\n",
        "    {\"max_depth\": 4, \"min_samples_split\": 2, \"min_samples_leaf\": 1},\n",
        "    {\"max_depth\": 6, \"min_samples_split\": 5, \"min_samples_leaf\": 2},\n",
        "    {\"max_depth\": None, \"min_samples_split\": 2, \"min_samples_leaf\": 1}, # fully grown\n",
        "]"
      ]
    },
    {
      "cell_type": "markdown",
      "metadata": {
        "id": "L8OlgvGXqbW7"
      },
      "source": [
        "Train and evaluate models"
      ]
    },
    {
      "cell_type": "code",
      "execution_count": 11,
      "metadata": {
        "id": "Vki9VuIWqgXD"
      },
      "outputs": [],
      "source": [
        "results = []\n",
        "for p in params:\n",
        "    clf = DecisionTreeClassifier(\n",
        "        criterion=\"gini\",\n",
        "        max_depth=p[\"max_depth\"],\n",
        "        min_samples_split=p[\"min_samples_split\"],\n",
        "        min_samples_leaf=p[\"min_samples_leaf\"],\n",
        "        random_state=42\n",
        "    )\n",
        "    clf.fit(X_train, y_train)\n",
        "\n",
        "    train_acc = accuracy_score(y_train, clf.predict(X_train))\n",
        "    test_acc = accuracy_score(y_test, clf.predict(X_test))\n",
        "\n",
        "    results.append({\n",
        "        \"max_depth\": p[\"max_depth\"],\n",
        "        \"min_samples_split\": p[\"min_samples_split\"],\n",
        "        \"min_samples_leaf\": p[\"min_samples_leaf\"],\n",
        "        \"Train Accuracy\": train_acc,\n",
        "        \"Test Accuracy\": test_acc\n",
        "    })"
      ]
    },
    {
      "cell_type": "markdown",
      "metadata": {
        "id": "837KFOoOqsEN"
      },
      "source": [
        "Show results as table"
      ]
    },
    {
      "cell_type": "code",
      "execution_count": 12,
      "metadata": {
        "id": "WytWmQZdquDa"
      },
      "outputs": [
        {
          "name": "stdout",
          "output_type": "stream",
          "text": [
            "   max_depth  min_samples_split  min_samples_leaf  Train Accuracy  \\\n",
            "0        2.0                  2                 1        0.942857   \n",
            "1        4.0                  2                 1        0.971429   \n",
            "2        6.0                  5                 2        0.971429   \n",
            "3        NaN                  2                 1        1.000000   \n",
            "\n",
            "   Test Accuracy  \n",
            "0       0.977778  \n",
            "1       1.000000  \n",
            "2       1.000000  \n",
            "3       1.000000  \n"
          ]
        }
      ],
      "source": [
        "df_results = pd.DataFrame(results)\n",
        "print(df_results)"
      ]
    }
  ],
  "metadata": {
    "colab": {
      "provenance": []
    },
    "kernelspec": {
      "display_name": "venv",
      "language": "python",
      "name": "python3"
    },
    "language_info": {
      "codemirror_mode": {
        "name": "ipython",
        "version": 3
      },
      "file_extension": ".py",
      "mimetype": "text/x-python",
      "name": "python",
      "nbconvert_exporter": "python",
      "pygments_lexer": "ipython3",
      "version": "3.12.6"
    }
  },
  "nbformat": 4,
  "nbformat_minor": 0
}
